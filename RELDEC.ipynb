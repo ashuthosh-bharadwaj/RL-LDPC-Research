{
 "cells": [
  {
   "cell_type": "markdown",
   "metadata": {},
   "source": [
    "## LDPC + RL\n",
    "This notebook will contain experiments conducted as part of the work done for ITW 2024 submissions "
   ]
  },
  {
   "cell_type": "code",
   "execution_count": null,
   "metadata": {},
   "outputs": [],
   "source": [
    "%pylab inline \n",
    "import matlab\n",
    "import numpy as np\n",
    "import scipy as sp\n",
    "import networkx as nx \n",
    "import matlab.engine\n",
    "from utils import *\n",
    "MATLAB = matlab.engine.start_matlab()\n",
    "initial = 0"
   ]
  },
  {
   "cell_type": "markdown",
   "metadata": {},
   "source": [
    "The parity check matrix used here is the 5G NR base matrix;\n",
    "\n",
    "The `SubMatrix` is represented by:"
   ]
  },
  {
   "cell_type": "code",
   "execution_count": null,
   "metadata": {},
   "outputs": [],
   "source": [
    "if initial == 0:\n",
    "    MATLAB.eval(\"addpath('LDPC_Matlab'); cd 'LDPC_Matlab/'; setup;\",nargout=0)\n",
    "    initial = 1\n",
    "\n",
    "Z = int(MATLAB.workspace['z'])\n",
    "h_submatrix = array(MATLAB.workspace['H'], dtype=int)\n",
    "m,n = shape(h_submatrix)"
   ]
  },
  {
   "cell_type": "code",
   "execution_count": null,
   "metadata": {},
   "outputs": [],
   "source": [
    "H = SubMatrix2PCM(h_submatrix, Z)\n",
    "M,N = shape(H)\n",
    "h = sp.sparse.csr_array(H)\n",
    "G = nx.bipartite.from_biadjacency_matrix(h)"
   ]
  },
  {
   "cell_type": "code",
   "execution_count": null,
   "metadata": {},
   "outputs": [],
   "source": [
    "check_nds, var_nds = nx.bipartite.sets(G)\n",
    "\n",
    "K =  6\n",
    "a = list(nx.simple_cycles(G,K))\n",
    "a = [cyc for cyc in a if len(cyc) == K] #filtering for K cycles\n",
    "b = []\n",
    "for cyc in a:\n",
    "    if cyc[0] >= M:\n",
    "        b.append(cyc[1:] + [cyc[0]])\n",
    "    else:\n",
    "        b.append(cyc)"
   ]
  },
  {
   "cell_type": "code",
   "execution_count": null,
   "metadata": {},
   "outputs": [],
   "source": [
    "# SANITY CHECK\n",
    "# len(b)\n",
    "# checjs = set()\n",
    "# for cyc in b:\n",
    "#     for node in cyc:\n",
    "#         checjs.add(node)\n",
    "\n",
    "# len(checjs)"
   ]
  },
  {
   "cell_type": "code",
   "execution_count": null,
   "metadata": {},
   "outputs": [],
   "source": [
    "# Clustering check \n",
    "clusters = cluster_form(2, b, 6, M)\n",
    "clusters"
   ]
  },
  {
   "cell_type": "code",
   "execution_count": null,
   "metadata": {},
   "outputs": [],
   "source": [
    "num_clusters = len(clusters)\n",
    "\n",
    "# clusters = dict(clusters) already a dictionary \n",
    "vns_in_cluster = { cluster_idx: NeighborVN(cluster, G, M) for cluster_idx, cluster in clusters.items() }\n",
    "\n",
    "MATLAB.workspace['num_clusters'] = matlab.int64(num_clusters)\n",
    "\n",
    "# create cell arrays for irregular sets of check nodes/ bit nodes \n",
    "MATLAB.eval(\"clusters = cell(num_clusters,1);\", nargout=0)\n",
    "MATLAB.eval(\"vns_in_cluster = cell(num_clusters,1);\", nargout=0)\n",
    "\n",
    "for i in range(num_clusters):\n",
    "    MATLAB.eval(\"clusters\" + \"{\" + str(i+1) + \"} = \" + str(array(clusters[i]) + 1), nargout=0) \n",
    "    MATLAB.eval(\"vns_in_cluster\" + \"{\" + str(i+1) + \"} = \" + str(array(vns_in_cluster[i]) + 1), nargout=0)\n",
    "\n",
    "MATLAB.eval(\"save('Imp.mat')\",nargout=0)"
   ]
  },
  {
   "cell_type": "markdown",
   "metadata": {},
   "source": [
    "#### RELDEC Algorithm \n",
    "\n",
    "prerequisites:\n",
    "-   Cycle maximizing algorithm that allocates clusters of size `z` from `m` bitnodes ::tick!::\n",
    "-   State space representation of CNs (and hence neighbouring VNs)\n",
    "\n",
    "The plan is to keep the original indices intact so that the order of nodes through which states get updated can be kept constant. \n",
    "\n",
    "All the RL steps can be accomplished through python structures \n",
    "\n",
    "\n",
    "All the BP local flooding computations can be done on MATLAB scripts that support this notebook"
   ]
  },
  {
   "cell_type": "code",
   "execution_count": null,
   "metadata": {},
   "outputs": [],
   "source": [
    "k_max = int(MATLAB.eval(\"max(sum(a~=-1, 2)')\"))  # max number of varnodes per parity check eq  \n",
    "z = 2\n",
    "tau = int(ceil(m/z))\n",
    "_l_max = 50\n",
    "epsilon = 0.7\n",
    "\n",
    "# clusters = cluster_form(81, b, 6, M)\n",
    "clusters = cluster_form(z, b, 6, M)\n",
    "\n",
    "A = [i for i in range(tau)] \n",
    "\n",
    "S = {} \n",
    "\n",
    "Q = zeros((2**(z*k_max), tau))\n",
    "\n",
    "# import L from matlab\n",
    "MATLAB.eval(\"load('./LDPC_M/L_dataset.mat');\", nargout =0)\n",
    "L = array(matlab.double(MATLAB.workspace['L']))\n",
    "C = array(matlab.double(MATLAB.workspace['C']))\n",
    "\n",
    "ndata = shape(L)[0]"
   ]
  },
  {
   "cell_type": "code",
   "execution_count": null,
   "metadata": {},
   "outputs": [],
   "source": [
    "# RELDEC \n",
    "for idx in range(ndata):\n",
    "    l = L[idx,:]\n",
    "    c = C[idx,:]\n",
    "\n",
    "    _l = 0\n",
    "    L_hat_l = l\n",
    "\n",
    "    # initialize S\n",
    "    \n",
    "    for cluster_idx, cluster in clusters.items():\n",
    "        S.update({cluster_idx: int_m(l[NeighborVN(cluster)] < 0)})\n",
    "\n",
    "    while _l < _l_max:\n",
    "\n",
    "        # happens with probability epsilon \n",
    "        if random.random() <= epsilon:\n",
    "            a = np.random.randint(0,tau)\n",
    "        else:\n",
    "            a = argmax(Q[list(S.keys()), :], axis=0)\n",
    "        \n",
    "        cluster_a = clusters[a]\n",
    "        vns_at_cluster = NeighborVN(cluster_a)\n",
    "        l_a = len(vns_at_cluster)\n",
    "\n",
    "        MATLAB.workspace['curr_clust'] = matlab.double(cluster_a)\n",
    "        l_hat, CNarray, VNarray = MATLAB.local_flood(nargout=0)\n",
    "\n",
    "        x_hat_a = (l_hat[vns_at_cluster] < 0)*1\n",
    "        s_a = int_m(x_hat_a)\n",
    "    \n",
    "        Reward = (1/l_a)*sum(x_hat_a == c[vns_at_cluster])\n",
    "        \n",
    "        \n",
    "\n",
    "        _l += 1"
   ]
  }
 ],
 "metadata": {
  "kernelspec": {
   "display_name": "Python 3",
   "language": "python",
   "name": "python3"
  },
  "language_info": {
   "codemirror_mode": {
    "name": "ipython",
    "version": 3
   },
   "file_extension": ".py",
   "mimetype": "text/x-python",
   "name": "python",
   "nbconvert_exporter": "python",
   "pygments_lexer": "ipython3",
   "version": "3.11.6"
  }
 },
 "nbformat": 4,
 "nbformat_minor": 2
}
