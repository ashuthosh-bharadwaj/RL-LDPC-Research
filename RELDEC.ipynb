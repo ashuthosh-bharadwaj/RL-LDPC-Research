{
 "cells": [
  {
   "cell_type": "markdown",
   "metadata": {},
   "source": [
    "## LDPC + RL\n",
    "This notebook will contain experiments conducted as part of the work done for ISIT 2024 submissions "
   ]
  },
  {
   "cell_type": "markdown",
   "metadata": {},
   "source": [
    "#### Experiment 1:\n",
    "Comparing the Convergence of LLRs between Iterative decoder (flooding schedule) and Layered decoder."
   ]
  },
  {
   "cell_type": "code",
   "execution_count": 1,
   "metadata": {},
   "outputs": [
    {
     "name": "stdout",
     "output_type": "stream",
     "text": [
      "%pylab is deprecated, use %matplotlib inline and import the required libraries.\n",
      "Populating the interactive namespace from numpy and matplotlib\n"
     ]
    }
   ],
   "source": [
    "%pylab inline \n",
    "import matlab\n",
    "import numpy as np\n",
    "import scipy as sp\n",
    "import networkx as nx \n",
    "import matlab.engine\n",
    "MATLAB = matlab.engine.start_matlab()\n",
    "initial = 0"
   ]
  },
  {
   "cell_type": "markdown",
   "metadata": {},
   "source": [
    "The parity check matrix used here is the 5G NR base matrix;\n",
    "\n",
    "The `SubMatrix` is represented by:"
   ]
  },
  {
   "cell_type": "code",
   "execution_count": 2,
   "metadata": {},
   "outputs": [
    {
     "name": "stdout",
     "output_type": "stream",
     "text": [
      "\n",
      "option =\n",
      "\n",
      "    'wlan'\n",
      "\n"
     ]
    }
   ],
   "source": [
    "if initial == 0:\n",
    "    MATLAB.eval(\"addpath('./LDPC_M'); cd './LDPC_M/'; setup;\",nargout=0)\n",
    "    initial = 1\n",
    "\n",
    "Z = int(MATLAB.workspace['z'])\n",
    "h_submatrix = array(MATLAB.workspace['H'], dtype=int)\n",
    "m,n = shape(h_submatrix)"
   ]
  },
  {
   "cell_type": "code",
   "execution_count": 3,
   "metadata": {},
   "outputs": [],
   "source": [
    "def cyc_shift_iden(k,z):\n",
    "    I = np.eye(z)\n",
    "    I_1 = I[:, z-1].reshape((z,1))\n",
    "    I_1 = np.append(I_1, I[:,0:z-1], axis=1)\n",
    "\n",
    "    if k == -1:\n",
    "        return np.zeros((z,z))\n",
    "    elif k == 0:\n",
    "        return I\n",
    "    else: \n",
    "        return np.linalg.matrix_power(I_1,k)\n",
    "    \n",
    "    \n",
    "def BitsinCheck(layer, z, row_num):\n",
    "    bitnodes = []\n",
    "    for SubMatrixCol, SubMatrixVal in enumerate(layer):\n",
    "        if SubMatrixVal == -1:\n",
    "            continue\n",
    "        elif SubMatrixVal == 0:\n",
    "            bitnodes.append(z*SubMatrixCol + ((row_num)%z))\n",
    "        else:\n",
    "            bitnodes.append(z*SubMatrixCol + ((row_num + SubMatrixVal-1)%z) + 1)\n",
    "    \n",
    "    return bitnodes\n",
    "\n",
    "\n",
    "def incrementor(prev_bitnodes,z):\n",
    "    next_bitnodes = []\n",
    "    for b in prev_bitnodes:\n",
    "        quotient, remainder = b//z, b%z\n",
    "        next_pos = (remainder + 1)%z\n",
    "        next_bitnodes.append(z*quotient + next_pos)\n",
    "    \n",
    "    return next_bitnodes\n",
    "\n",
    "\n",
    "def min_algo(x):\n",
    "    y = abs(x)\n",
    "    min1 = np.min(y)\n",
    "    min1_pos = np.argmin(y)\n",
    "\n",
    "    y[min1_pos] = np.inf\n",
    "    min2 = min(y)\n",
    "\n",
    "    w = min1*np.ones(len(x),)\n",
    "    w[min1_pos] = min2\n",
    "\n",
    "    parity = np.prod(np.sign(x))\n",
    "    w = w*parity*np.sign(x)\n",
    "\n",
    "    return w         \n",
    "\n",
    "\n",
    "def SubMatrix2PCM(SubMatrix, z):\n",
    "    m,n = shape(SubMatrix)\n",
    "    \n",
    "    H = cyc_shift_iden(SubMatrix[0,0],z)\n",
    "    for idx in range(1,n): \n",
    "        H = append(H, cyc_shift_iden(SubMatrix[0,idx],z),1)\n",
    "\n",
    "    for i in range(1,m): \n",
    "        g = cyc_shift_iden(SubMatrix[i,0],z)\n",
    "        for idx in range(1,n): \n",
    "            g = append(g, cyc_shift_iden(SubMatrix[i,idx],z),1)\n",
    "        H = append(H,g,0)\n",
    "    return H\n",
    "\n",
    "\n",
    "def int_m(l):\n",
    "    fin = 0\n",
    "    for i in l:\n",
    "        fin = 2*fin + i\n",
    "    return fin"
   ]
  },
  {
   "cell_type": "code",
   "execution_count": 4,
   "metadata": {},
   "outputs": [
    {
     "data": {
      "text/plain": [
       "((array([  57,  374,  497,  698,  889,  973, 1053]),),\n",
       " [57, 374, 497, 698, 889, 973, 1053])"
      ]
     },
     "execution_count": 4,
     "metadata": {},
     "output_type": "execute_result"
    }
   ],
   "source": [
    "g = []\n",
    "for val in h_submatrix[0,:].tolist():\n",
    "    g += (cyc_shift_iden(val,81)[0,:]).tolist()\n",
    "    \n",
    "np.where(np.array(g)==1) , BitsinCheck(h_submatrix[0,:].tolist(), 81,0) "
   ]
  },
  {
   "cell_type": "code",
   "execution_count": 5,
   "metadata": {},
   "outputs": [],
   "source": [
    "H = SubMatrix2PCM(h_submatrix, Z)\n",
    "M,N = shape(H)\n",
    "h = sp.sparse.csr_array(H)\n",
    "G = nx.bipartite.from_biadjacency_matrix(h)"
   ]
  },
  {
   "cell_type": "code",
   "execution_count": 6,
   "metadata": {},
   "outputs": [],
   "source": [
    "K =  6\n",
    "a = list(nx.simple_cycles(G,K))\n",
    "a = [cyc for cyc in a if len(cyc) == K]\n",
    "b = []\n",
    "for cyc in a:\n",
    "    if cyc[0] >= M:\n",
    "        b.append(cyc[1:] + [cyc[0]])\n",
    "    else:\n",
    "        b.append(cyc)"
   ]
  },
  {
   "cell_type": "code",
   "execution_count": 7,
   "metadata": {},
   "outputs": [
    {
     "data": {
      "text/plain": [
       "2673"
      ]
     },
     "execution_count": 7,
     "metadata": {},
     "output_type": "execute_result"
    }
   ],
   "source": [
    "len(b)\n",
    "checjs = set()\n",
    "for cyc in b:\n",
    "    for node in cyc:\n",
    "        checjs.add(node)\n",
    "\n",
    "len(checjs)"
   ]
  },
  {
   "cell_type": "code",
   "execution_count": 8,
   "metadata": {},
   "outputs": [],
   "source": [
    "def Unionise(A):\n",
    "    Union = set()\n",
    "    for key,value_list in A.items():\n",
    "        for value in value_list:\n",
    "            Union.add(value)\n",
    "    return Union \n",
    "\n",
    "def Histogramize(A,size):\n",
    "    Hist = zeros((size,))\n",
    "    Set_invert = {i:[] for i in range(size)}\n",
    "\n",
    "    for key,value_list in A.items():\n",
    "        for value in value_list:\n",
    "            Set_invert[value].append(key)\n",
    "            Hist[value] += 1\n",
    "    \n",
    "    return Hist, Set_invert"
   ]
  },
  {
   "cell_type": "code",
   "execution_count": 9,
   "metadata": {},
   "outputs": [],
   "source": [
    "# Cycle maximised cluster formation\n",
    "CN = set()\n",
    "for i in range(M):\n",
    "    CN.add(i)\n",
    "\n",
    "def cluster_form(z, K_cycles, K,M):\n",
    "    x = 1\n",
    "    Clusters = {}\n",
    "    e = 0\n",
    "    C = {}\n",
    "\n",
    "    for cyc in K_cycles:\n",
    "        S_x = [cyc[i] for i in range(K) if not i%2]\n",
    "        C.update({(x-1):S_x})\n",
    "        x += 1\n",
    "\n",
    "    Hist, Set_invert = Histogramize(C,M) \n",
    "\n",
    "    for cyc in K_cycles:\n",
    "        # getting c_star such that:\n",
    "            # c_star \\in CNs \\ all CNs already in clusters\n",
    "            # c_star = argmax histogram(CNs \\ all CNs already in clusters)\n",
    "\n",
    "        Cluster_union = Unionise(Clusters)\n",
    "\n",
    "        Remaining = CN - Cluster_union\n",
    "        if len(Remaining) == 0:\n",
    "            break        \n",
    "        \n",
    "        cn_list = [x for x in Remaining]\n",
    "        c_star = cn_list[argmax(Hist[cn_list])]\n",
    "\n",
    "        Union_SK = {}\n",
    "        for k in Set_invert[c_star]:\n",
    "            Union_SK.update({k:C[k]})\n",
    "\n",
    "        _C_ = Unionise(Union_SK) - Cluster_union\n",
    "        sorted_C_ = sorted(_C_)\n",
    "\n",
    "        if len(_C_) >= z:\n",
    "            new_cluster_list = [sorted_C_[x] for x in range(z)]\n",
    "            Clusters.update({e:new_cluster_list})\n",
    "            e += 1             \n",
    "        else:\n",
    "            _C_bar = sorted(CN - Cluster_union.union(_C_))\n",
    "            _C_bar = set(_C_bar[:z-len(_C_)])\n",
    "            new_cluster_list = sorted(_C_bar.union(_C_))\n",
    "            Clusters.update({e:new_cluster_list})\n",
    "            e += 1\n",
    "\n",
    "    return Clusters"
   ]
  },
  {
   "cell_type": "code",
   "execution_count": 10,
   "metadata": {},
   "outputs": [],
   "source": [
    "# Clustering check \n",
    "\n",
    "clusters = cluster_form(81, b, 6, M)"
   ]
  },
  {
   "cell_type": "code",
   "execution_count": 11,
   "metadata": {},
   "outputs": [],
   "source": [
    "clust_list = [clusters[i] for i in range(len(clusters))]\n",
    "\n",
    "MATLAB.workspace['cluster_alloc'] = matlab.int64(clust_list)\n",
    "MATLAB.eval(\"cluster_alloc = cluster_alloc + 1;\", nargout=0)\n",
    "\n",
    "# running the script for cluster allocated layers\n",
    "# MATLAB.eval(\"cd LDPC_dir\",nargout=0)\n",
    "\n",
    "MATLAB.eval(\"save('Imp.mat')\",nargout=0)\n",
    "\n",
    "# MATLAB.ldpc_cluster_layered(nargout=0)\n",
    "# # MATLAB.eval(\"size(cluster_alloc)\")\n",
    "\n",
    "# MATLAB.eval(\"P_ecw\")\n",
    "# MATLAB.eval(\"new_indices =[]; for layer = 1:numSubMatrixRows new_indices = [new_indices, cluster_alloc(layer,:)]; end \", nargout=0)\n",
    "# MATLAB.eval(\"H(new_indices,:)\")"
   ]
  },
  {
   "cell_type": "code",
   "execution_count": null,
   "metadata": {},
   "outputs": [],
   "source": [
    "def NeighborVN(Cluster):\n",
    "    temp = set()\n",
    "    for cn in Cluster:\n",
    "        cns_vns = array(G[cn]) - M\n",
    "        for vn in cns_vns:\n",
    "            temp.add(vn)\n",
    "    \n",
    "    return sorted(temp)"
   ]
  },
  {
   "cell_type": "markdown",
   "metadata": {},
   "source": [
    "#### RELDEC Algorithm \n",
    "\n",
    "prerequisites:\n",
    "-   Cycle maximizing algorithm that allocates clusters of size `z` from `m` bitnodes ::tick!::\n",
    "-   State space representation of CNs (and hence neighbouring VNs)\n",
    "\n",
    "The plan is to keep the original indices intact so that the order of nodes through which states get updated can be kept constant. \n",
    "\n",
    "All the RL steps can be accomplished through python structures \n",
    "\n",
    "\n",
    "All the BP local flooding computations can be done on MATLAB scripts that support this notebook"
   ]
  },
  {
   "cell_type": "code",
   "execution_count": null,
   "metadata": {},
   "outputs": [],
   "source": [
    "k_max = int(MATLAB.eval(\"max(sum(a~=-1, 2)')\"))  # max number of varnodes per parity check eq  \n",
    "z = 2\n",
    "tau = int(ceil(m/z))\n",
    "_l_max = 50\n",
    "epsilon = 0.7\n",
    "\n",
    "# clusters = cluster_form(81, b, 6, M)\n",
    "clusters = cluster_form(z, b, 6, M)\n",
    "\n",
    "A = [i for i in range(tau)] \n",
    "\n",
    "S = {}\n",
    "\n",
    "Q = zeros((2**(z*k_max), tau))\n",
    "\n",
    "# import L from matlab\n",
    "MATLAB.eval(\"load('./LDPC_M/L_dataset.mat');\", nargout =0)\n",
    "L = array(matlab.double(MATLAB.workspace['L']))\n",
    "C = array(matlab.double(MATLAB.workspace['C']))\n",
    "\n",
    "ndata = shape(L)[0]"
   ]
  },
  {
   "cell_type": "code",
   "execution_count": null,
   "metadata": {},
   "outputs": [],
   "source": [
    "# RELDEC \n",
    "for idx in range(ndata):\n",
    "    l = L[idx,:]\n",
    "    c = C[idx,:]\n",
    "\n",
    "    _l = 0\n",
    "    L_hat_l = l\n",
    "\n",
    "    # initialize S\n",
    "    \n",
    "    for cluster_idx, cluster in clusters.items():\n",
    "        S.update({cluster_idx: int_m(l[NeighborVN(cluster)] < 0)})\n",
    "\n",
    "    while _l < _l_max:\n",
    "\n",
    "        # happens with probability epsilon \n",
    "        if random.random() <= epsilon:\n",
    "            a = np.random.randint(0,tau)\n",
    "        else:\n",
    "            a = argmax(Q[list(S.keys()), :], axis=0)\n",
    "        \n",
    "        cluster_a = clusters[a]\n",
    "        vns_at_cluster = NeighborVN(cluster_a)\n",
    "        l_a = len(vns_at_cluster)\n",
    "\n",
    "        MATLAB.workspace['curr_clust'] = matlab.double(cluster_a)\n",
    "        l_hat, CNarray, VNarray = MATLAB.local_flood(nargout=0)\n",
    "\n",
    "        x_hat_a = (l_hat[vns_at_cluster] < 0)*1\n",
    "        s_a = int_m(x_hat_a)\n",
    "    \n",
    "        Reward = (1/l_a)*sum(x_hat_a == c[vns_at_cluster])\n",
    "        \n",
    "        \n",
    "\n",
    "        _l += 1"
   ]
  }
 ],
 "metadata": {
  "kernelspec": {
   "display_name": "Python 3",
   "language": "python",
   "name": "python3"
  },
  "language_info": {
   "codemirror_mode": {
    "name": "ipython",
    "version": 3
   },
   "file_extension": ".py",
   "mimetype": "text/x-python",
   "name": "python",
   "nbconvert_exporter": "python",
   "pygments_lexer": "ipython3",
   "version": "3.10.13"
  }
 },
 "nbformat": 4,
 "nbformat_minor": 2
}
